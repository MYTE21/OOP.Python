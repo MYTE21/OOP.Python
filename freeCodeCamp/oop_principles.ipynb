{
 "cells": [
  {
   "metadata": {},
   "cell_type": "markdown",
   "source": "# Encapsulation",
   "id": "e048f6b30362daac"
  },
  {
   "metadata": {},
   "cell_type": "markdown",
   "source": "❌ Bad Example: No Encapsulation",
   "id": "cfb3799ed546ba1c"
  },
  {
   "cell_type": "code",
   "id": "initial_id",
   "metadata": {
    "collapsed": true,
    "ExecuteTime": {
     "end_time": "2025-07-02T17:35:11.391577Z",
     "start_time": "2025-07-02T17:35:11.389210Z"
    }
   },
   "source": [
    "class BadBankAccount:\n",
    "    def __init__(self, balance):\n",
    "        self.balance = balance"
   ],
   "outputs": [],
   "execution_count": 1
  },
  {
   "metadata": {
    "ExecuteTime": {
     "end_time": "2025-07-02T17:35:34.792094Z",
     "start_time": "2025-07-02T17:35:34.789935Z"
    }
   },
   "cell_type": "code",
   "source": [
    "account = BadBankAccount(0.0)\n",
    "account.balance = -1 # This is not good! As we can set the balance to a negative value.\n",
    "print(account.balance)"
   ],
   "id": "80178846f4d1ebc",
   "outputs": [
    {
     "name": "stdout",
     "output_type": "stream",
     "text": [
      "-1\n"
     ]
    }
   ],
   "execution_count": 2
  },
  {
   "metadata": {},
   "cell_type": "markdown",
   "source": "✅ Better or Ideal Example: Encapsulation",
   "id": "5fc5c833045bb9dc"
  },
  {
   "metadata": {
    "ExecuteTime": {
     "end_time": "2025-07-02T18:31:10.318419Z",
     "start_time": "2025-07-02T18:31:10.314957Z"
    }
   },
   "cell_type": "code",
   "source": [
    "class BankAccount:\n",
    "    def __init__(self):\n",
    "        self._balance = 0.0\n",
    "\n",
    "    @property\n",
    "    def balance(self):\n",
    "        return self._balance\n",
    "\n",
    "    def deposit(self, amount):\n",
    "        if amount <= 0:\n",
    "            raise ValueError(\"Deposit amount must be positive.\")\n",
    "        self._balance += amount\n",
    "\n",
    "    def withdraw(self, amount):\n",
    "        if amount <= 0:\n",
    "            raise ValueError(\"Withdrawal amount must be positive.\")\n",
    "        if amount >= self._balance:\n",
    "            raise ValueError(\"Insufficient funds.\")\n",
    "        self._balance -= amount"
   ],
   "id": "e2021252006c6f0c",
   "outputs": [],
   "execution_count": 5
  },
  {
   "metadata": {
    "ExecuteTime": {
     "end_time": "2025-07-02T18:31:31.018136Z",
     "start_time": "2025-07-02T18:31:31.015458Z"
    }
   },
   "cell_type": "code",
   "source": [
    "account = BankAccount()\n",
    "print(account.balance)"
   ],
   "id": "8e0760447dec8c32",
   "outputs": [
    {
     "name": "stdout",
     "output_type": "stream",
     "text": [
      "0.0\n"
     ]
    }
   ],
   "execution_count": 6
  },
  {
   "metadata": {
    "ExecuteTime": {
     "end_time": "2025-07-02T18:32:48.028776Z",
     "start_time": "2025-07-02T18:32:48.026548Z"
    }
   },
   "cell_type": "code",
   "source": "# account.balance = 1 # This will raise an AttributeError because balance is a read-only property.",
   "id": "dce6486530608e30",
   "outputs": [],
   "execution_count": 9
  },
  {
   "metadata": {
    "ExecuteTime": {
     "end_time": "2025-07-02T18:33:06.386764Z",
     "start_time": "2025-07-02T18:33:06.383913Z"
    }
   },
   "cell_type": "code",
   "source": [
    "account.deposit(1.99)\n",
    "print(account.balance)"
   ],
   "id": "31783a078fdb541a",
   "outputs": [
    {
     "name": "stdout",
     "output_type": "stream",
     "text": [
      "1.99\n"
     ]
    }
   ],
   "execution_count": 10
  },
  {
   "metadata": {
    "ExecuteTime": {
     "end_time": "2025-07-02T18:33:12.557723Z",
     "start_time": "2025-07-02T18:33:12.555193Z"
    }
   },
   "cell_type": "code",
   "source": "account.withdraw(1)",
   "id": "6192493ea296d1fb",
   "outputs": [],
   "execution_count": 11
  },
  {
   "metadata": {
    "ExecuteTime": {
     "end_time": "2025-07-02T18:33:15.803542Z",
     "start_time": "2025-07-02T18:33:15.800477Z"
    }
   },
   "cell_type": "code",
   "source": "print(account.balance)",
   "id": "46966325aa54659a",
   "outputs": [
    {
     "name": "stdout",
     "output_type": "stream",
     "text": [
      "0.99\n"
     ]
    }
   ],
   "execution_count": 12
  },
  {
   "metadata": {
    "ExecuteTime": {
     "end_time": "2025-07-02T18:34:46.037858Z",
     "start_time": "2025-07-02T18:34:46.035532Z"
    }
   },
   "cell_type": "code",
   "source": "# account.withdraw(100) # This will raise a ValueError because there are insufficient funds.",
   "id": "d8e5db5a1edab80e",
   "outputs": [],
   "execution_count": 14
  },
  {
   "metadata": {},
   "cell_type": "markdown",
   "source": [
    "# Abstraction\n",
    "\n",
    "Reduce complexity by hiding unnecessary details and showing only the essential features of an object."
   ],
   "id": "482ca8179fbf33d0"
  },
  {
   "metadata": {
    "ExecuteTime": {
     "end_time": "2025-07-02T18:53:24.316613Z",
     "start_time": "2025-07-02T18:53:24.314045Z"
    }
   },
   "cell_type": "code",
   "source": [
    "class EmailService:\n",
    "    def _connect(self):\n",
    "        print(\"Connecting to email server...\")\n",
    "\n",
    "    def _authenticate(self):\n",
    "        print(\"Authenticating user...\")\n",
    "\n",
    "    def send_email(self):\n",
    "        self._connect()\n",
    "        self._authenticate()\n",
    "        print(f\"\\nSending email...\\n\")\n",
    "        self._disconnect()\n",
    "\n",
    "    def _disconnect(self):\n",
    "        print(\"Disconnecting from email server...\")"
   ],
   "id": "b4dca74ffb1000bc",
   "outputs": [],
   "execution_count": 17
  },
  {
   "metadata": {
    "ExecuteTime": {
     "end_time": "2025-07-02T18:53:24.699646Z",
     "start_time": "2025-07-02T18:53:24.696359Z"
    }
   },
   "cell_type": "code",
   "source": [
    "email = EmailService()\n",
    "\n",
    "email.send_email()"
   ],
   "id": "ca8970c1cea2e6e4",
   "outputs": [
    {
     "name": "stdout",
     "output_type": "stream",
     "text": [
      "Connecting to email server...\n",
      "Authenticating user...\n",
      "\n",
      "Sending email...\n",
      "\n",
      "Disconnecting from email server...\n"
     ]
    }
   ],
   "execution_count": 18
  },
  {
   "metadata": {},
   "cell_type": "markdown",
   "source": [
    "# Inheritance\n",
    "\n",
    "Inheritance is a fundamental concept in object-oriented programming (OOP) that involves creating new classes (subclasses or derived classes) based on existing classes (superclasses or base classes).\n",
    "The new class inherits attributes and methods from the existing class, allowing for code reuse and the creation of hierarchical relationships between classes.\n",
    "\n",
    "\n",
    "\\- A Car `is-a` Vehicle\n",
    "\n",
    "\\- A Bike `is-a` Vehicle\n"
   ],
   "id": "5ae335aedb77cd6f"
  },
  {
   "metadata": {},
   "cell_type": "code",
   "outputs": [],
   "execution_count": null,
   "source": [
    "class Vehicle:\n",
    "    def __init__(self, make, model, year):\n",
    "        pass"
   ],
   "id": "a2ccb220fadc5ca2"
  }
 ],
 "metadata": {
  "kernelspec": {
   "display_name": "Python 3",
   "language": "python",
   "name": "python3"
  },
  "language_info": {
   "codemirror_mode": {
    "name": "ipython",
    "version": 2
   },
   "file_extension": ".py",
   "mimetype": "text/x-python",
   "name": "python",
   "nbconvert_exporter": "python",
   "pygments_lexer": "ipython2",
   "version": "2.7.6"
  }
 },
 "nbformat": 4,
 "nbformat_minor": 5
}
