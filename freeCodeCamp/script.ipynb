{
 "cells": [
  {
   "metadata": {},
   "cell_type": "markdown",
   "source": "Everything in python is a class. ⤵️",
   "id": "bf10d5d45af9976e"
  },
  {
   "cell_type": "code",
   "id": "initial_id",
   "metadata": {
    "collapsed": true,
    "ExecuteTime": {
     "end_time": "2025-07-01T10:29:47.696522Z",
     "start_time": "2025-07-01T10:29:47.690229Z"
    }
   },
   "source": [
    "name = \"Danny\"\n",
    "age = 29\n",
    "\n",
    "print(type(name))\n",
    "print(type(age))"
   ],
   "outputs": [
    {
     "name": "stdout",
     "output_type": "stream",
     "text": [
      "<class 'str'>\n",
      "<class 'int'>\n"
     ]
    }
   ],
   "execution_count": 1
  },
  {
   "metadata": {},
   "cell_type": "markdown",
   "source": "Different objects have different methods. ⤵️",
   "id": "4b7f727f49d8f91"
  },
  {
   "metadata": {
    "ExecuteTime": {
     "end_time": "2025-07-01T10:29:47.757075Z",
     "start_time": "2025-07-01T10:29:47.751838Z"
    }
   },
   "cell_type": "code",
   "source": "print(name.upper())  #uppercase all the letter in the string",
   "id": "a3bd28c15462f9ec",
   "outputs": [
    {
     "name": "stdout",
     "output_type": "stream",
     "text": [
      "DANNY\n"
     ]
    }
   ],
   "execution_count": 2
  },
  {
   "metadata": {},
   "cell_type": "markdown",
   "source": "Create our own class. ⤵️",
   "id": "61d9e4a1cce005d9"
  },
  {
   "metadata": {
    "ExecuteTime": {
     "end_time": "2025-07-01T10:29:48.348643Z",
     "start_time": "2025-07-01T10:29:48.343151Z"
    }
   },
   "cell_type": "code",
   "source": [
    "class Dog:\n",
    "    def bark(self):\n",
    "        print(\"Woof Woof!\")\n",
    "\n",
    "dog_1 = Dog()\n",
    "dog_1.bark()"
   ],
   "id": "a4fe7e4c6326180",
   "outputs": [
    {
     "name": "stdout",
     "output_type": "stream",
     "text": [
      "Woof Woof!\n"
     ]
    }
   ],
   "execution_count": 3
  },
  {
   "metadata": {
    "ExecuteTime": {
     "end_time": "2025-07-01T10:29:48.398076Z",
     "start_time": "2025-07-01T10:29:48.392957Z"
    }
   },
   "cell_type": "code",
   "source": [
    "dog_2 = Dog()\n",
    "dog_2.bark()"
   ],
   "id": "829b573834f7b615",
   "outputs": [
    {
     "name": "stdout",
     "output_type": "stream",
     "text": [
      "Woof Woof!\n"
     ]
    }
   ],
   "execution_count": 4
  },
  {
   "metadata": {},
   "cell_type": "markdown",
   "source": "add attributes and data in the Dog class. ⤵️",
   "id": "7c90dfb5f233ce00"
  },
  {
   "metadata": {
    "ExecuteTime": {
     "end_time": "2025-07-01T10:29:48.882741Z",
     "start_time": "2025-07-01T10:29:48.876174Z"
    }
   },
   "cell_type": "code",
   "source": [
    "class Dog:\n",
    "    def __init__(self, firstname, breed):\n",
    "        self.name = firstname\n",
    "        self.breed = breed\n",
    "\n",
    "    def bark(self):\n",
    "        print(\"Woof Woof!\")"
   ],
   "id": "4ff1d8586f5d4353",
   "outputs": [],
   "execution_count": 5
  },
  {
   "metadata": {
    "ExecuteTime": {
     "end_time": "2025-07-01T10:29:49.109481Z",
     "start_time": "2025-07-01T10:29:49.103606Z"
    }
   },
   "cell_type": "code",
   "source": [
    "dog_1 = Dog(\"Bruce\", \"Scottish Terrier\")\n",
    "dog_1.bark()\n",
    "print(dog_1.name) # data field\n",
    "print(dog_1.breed) # data field"
   ],
   "id": "ffdab7807f6d5ba8",
   "outputs": [
    {
     "name": "stdout",
     "output_type": "stream",
     "text": [
      "Woof Woof!\n",
      "Bruce\n",
      "Scottish Terrier\n"
     ]
    }
   ],
   "execution_count": 6
  },
  {
   "metadata": {
    "ExecuteTime": {
     "end_time": "2025-07-01T10:29:49.326885Z",
     "start_time": "2025-07-01T10:29:49.320990Z"
    }
   },
   "cell_type": "code",
   "source": [
    "dog_2 = Dog(\"Freya\", \"Greyhound\")\n",
    "dog_2.bark()\n",
    "print(dog_2.name)\n",
    "print(dog_2.breed)"
   ],
   "id": "e1912c97fd153a3e",
   "outputs": [
    {
     "name": "stdout",
     "output_type": "stream",
     "text": [
      "Woof Woof!\n",
      "Freya\n",
      "Greyhound\n"
     ]
    }
   ],
   "execution_count": 7
  },
  {
   "metadata": {},
   "cell_type": "markdown",
   "source": "2 class together. ⤵️",
   "id": "c46d703b50a4a0b5"
  },
  {
   "metadata": {
    "ExecuteTime": {
     "end_time": "2025-07-01T10:29:49.511001Z",
     "start_time": "2025-07-01T10:29:49.505591Z"
    }
   },
   "cell_type": "code",
   "source": [
    "class Owner:\n",
    "    def __init__(self, name, address, contact_number):\n",
    "        self.name = name\n",
    "        self.address = address\n",
    "        self.phone_number = contact_number"
   ],
   "id": "b011e9529157a96f",
   "outputs": [],
   "execution_count": 8
  },
  {
   "metadata": {
    "ExecuteTime": {
     "end_time": "2025-07-01T10:29:49.663377Z",
     "start_time": "2025-07-01T10:29:49.656121Z"
    }
   },
   "cell_type": "code",
   "source": [
    "class Dog:\n",
    "    def __init__(self, firstname, breed, owner):\n",
    "        self.name = firstname\n",
    "        self.breed = breed\n",
    "        self.owner = owner\n",
    "\n",
    "    def bark(self):\n",
    "        print(\"Woof Woof!\")"
   ],
   "id": "79a3a24fff030af",
   "outputs": [],
   "execution_count": 9
  },
  {
   "metadata": {
    "ExecuteTime": {
     "end_time": "2025-07-01T10:29:49.787942Z",
     "start_time": "2025-07-01T10:29:49.782691Z"
    }
   },
   "cell_type": "code",
   "source": [
    "owner_1 = Owner(\"Danny\", \"122 Springfield Drive\", \"888-999\")\n",
    "dog_1 = Dog(\"Bruce\", \"Scottish Terrier\", owner_1)\n",
    "\n",
    "print(dog_1.owner.name)"
   ],
   "id": "c7e1b8f56a8657fe",
   "outputs": [
    {
     "name": "stdout",
     "output_type": "stream",
     "text": [
      "Danny\n"
     ]
    }
   ],
   "execution_count": 10
  },
  {
   "metadata": {},
   "cell_type": "markdown",
   "source": "More object-oriented programming. ⤵️",
   "id": "78c764faf7f9bd33"
  },
  {
   "metadata": {
    "ExecuteTime": {
     "end_time": "2025-07-01T10:40:42.489273Z",
     "start_time": "2025-07-01T10:40:42.484944Z"
    }
   },
   "cell_type": "code",
   "source": [
    "class Person:\n",
    "    def __init__(self, name, age):\n",
    "        self.name = name\n",
    "        self.age = age\n",
    "\n",
    "    def greet(self):\n",
    "        print(f\"Hello, my name is {self.name} and I am {self.age} years old.\")"
   ],
   "id": "1fc0979c35d437de",
   "outputs": [],
   "execution_count": 11
  },
  {
   "metadata": {
    "ExecuteTime": {
     "end_time": "2025-07-01T10:41:22.828065Z",
     "start_time": "2025-07-01T10:41:22.823242Z"
    }
   },
   "cell_type": "code",
   "source": [
    "person_1 = Person(\"Alice\", 30)\n",
    "person_1.greet()"
   ],
   "id": "8ec6ba96fed40884",
   "outputs": [
    {
     "name": "stdout",
     "output_type": "stream",
     "text": [
      "Hello, my name is Alice and I am 30 years old.\n"
     ]
    }
   ],
   "execution_count": 12
  },
  {
   "metadata": {
    "ExecuteTime": {
     "end_time": "2025-07-01T10:42:08.579036Z",
     "start_time": "2025-07-01T10:42:08.574601Z"
    }
   },
   "cell_type": "code",
   "source": [
    "person_2 = Person(\"Bob\", 42)\n",
    "person_2.greet()"
   ],
   "id": "75257f90c236c1ae",
   "outputs": [
    {
     "name": "stdout",
     "output_type": "stream",
     "text": [
      "Hello, my name is Bob and I am 42 years old.\n"
     ]
    }
   ],
   "execution_count": 13
  },
  {
   "metadata": {},
   "cell_type": "markdown",
   "source": "Accessing and modifying data in an object and doing it preferred way in Python. ⤵️",
   "id": "8f99c72c006465d0"
  },
  {
   "metadata": {
    "ExecuteTime": {
     "end_time": "2025-07-01T11:21:43.099245Z",
     "start_time": "2025-07-01T11:21:43.093954Z"
    }
   },
   "cell_type": "code",
   "source": [
    "class User:\n",
    "    def __init__(self, username, email, password):\n",
    "        self.username = username\n",
    "        self.email = email\n",
    "        self.password = password\n",
    "\n",
    "    def say_hi_to_user(self, user):\n",
    "        print(f\"Sending message to {user.username}: Hi {user.username}, it's {self.username}!\")"
   ],
   "id": "316bc41ebf9a3235",
   "outputs": [],
   "execution_count": 14
  },
  {
   "metadata": {
    "ExecuteTime": {
     "end_time": "2025-07-01T11:22:54.610097Z",
     "start_time": "2025-07-01T11:22:54.605709Z"
    }
   },
   "cell_type": "code",
   "source": [
    "user_1 = User(\"Dantheman\", \"dan@gmail.com\", \"123\")\n",
    "user_2 = User(\"Batman\", \"bat@gmail.com\", \"abc\")"
   ],
   "id": "ac272068f404d254",
   "outputs": [],
   "execution_count": 16
  },
  {
   "metadata": {
    "ExecuteTime": {
     "end_time": "2025-07-01T11:23:00.327366Z",
     "start_time": "2025-07-01T11:23:00.323141Z"
    }
   },
   "cell_type": "code",
   "source": "user_1.say_hi_to_user(user_2)",
   "id": "919ea768664e41",
   "outputs": [
    {
     "name": "stdout",
     "output_type": "stream",
     "text": [
      "Sending message to Batman: Hi Batman, it's Dantheman!\n"
     ]
    }
   ],
   "execution_count": 17
  },
  {
   "metadata": {
    "ExecuteTime": {
     "end_time": "2025-07-01T11:24:23.023656Z",
     "start_time": "2025-07-01T11:24:23.019409Z"
    }
   },
   "cell_type": "code",
   "source": "print(user_1.email)",
   "id": "8f591941a08709c5",
   "outputs": [
    {
     "name": "stdout",
     "output_type": "stream",
     "text": [
      "dan@gmail.com\n"
     ]
    }
   ],
   "execution_count": 18
  },
  {
   "metadata": {
    "ExecuteTime": {
     "end_time": "2025-07-01T11:24:36.451588Z",
     "start_time": "2025-07-01T11:24:36.448238Z"
    }
   },
   "cell_type": "code",
   "source": "user_1.email = \"danny@gmail.com\"",
   "id": "f1f8a42aaf2f41ee",
   "outputs": [],
   "execution_count": 19
  },
  {
   "metadata": {
    "ExecuteTime": {
     "end_time": "2025-07-01T11:24:41.533348Z",
     "start_time": "2025-07-01T11:24:41.529298Z"
    }
   },
   "cell_type": "code",
   "source": "print(user_1.email)",
   "id": "fb3508c7b7940426",
   "outputs": [
    {
     "name": "stdout",
     "output_type": "stream",
     "text": [
      "danny@gmail.com\n"
     ]
    }
   ],
   "execution_count": 20
  },
  {
   "metadata": {},
   "cell_type": "markdown",
   "source": [
    "Accessing and Modifying data </br>\n",
    "Getter and Setter in Java way (most popular way). </br>\n",
    "make the data private and use getters and setters. ⤵️"
   ],
   "id": "97d71d6d3367cb82"
  },
  {
   "metadata": {
    "ExecuteTime": {
     "end_time": "2025-07-01T14:46:59.332736Z",
     "start_time": "2025-07-01T14:46:59.327106Z"
    }
   },
   "cell_type": "code",
   "source": [
    "class User:\n",
    "    def __init__(self, username, email, password):\n",
    "        self.username = username\n",
    "        self._email = email\n",
    "        self.password = password\n",
    "\n",
    "    def clean_email(self):\n",
    "        return self._email.lower().strip()"
   ],
   "id": "d57b9b49f958fd8a",
   "outputs": [],
   "execution_count": 33
  },
  {
   "metadata": {},
   "cell_type": "markdown",
   "source": "Python takes on access modifiers. (private, protected and public)",
   "id": "5bc4e3baf1947aed"
  },
  {
   "metadata": {
    "ExecuteTime": {
     "end_time": "2025-07-01T14:47:20.779133Z",
     "start_time": "2025-07-01T14:47:20.776217Z"
    }
   },
   "cell_type": "code",
   "source": "user_1 = User(\"Dantheman\", \"Dan@gmail.com \", \"123\")",
   "id": "695752f992278666",
   "outputs": [],
   "execution_count": 37
  },
  {
   "metadata": {
    "ExecuteTime": {
     "end_time": "2025-07-01T14:47:21.199299Z",
     "start_time": "2025-07-01T14:47:21.195495Z"
    }
   },
   "cell_type": "code",
   "source": "# print(user_1._email) #! shouldn't access this as _email is protected",
   "id": "e26f00442727ad27",
   "outputs": [],
   "execution_count": 38
  },
  {
   "metadata": {
    "ExecuteTime": {
     "end_time": "2025-07-01T14:47:21.613439Z",
     "start_time": "2025-07-01T14:47:21.610286Z"
    }
   },
   "cell_type": "code",
   "source": "print(user_1.clean_email())",
   "id": "6d5711377f76c1ba",
   "outputs": [
    {
     "name": "stdout",
     "output_type": "stream",
     "text": [
      "dan@gmail.com\n"
     ]
    }
   ],
   "execution_count": 39
  },
  {
   "metadata": {},
   "cell_type": "markdown",
   "source": "The \"Consenting Adults\" Philosophy of Python.",
   "id": "f79bbe3fdfe12b51"
  },
  {
   "metadata": {},
   "cell_type": "markdown",
   "source": "You can make the attributes private (name mangled attribute) and then it'll be impossible to access from outside the scope. (Python changes the name of the private attribute so that it can't be accessed) ⤵️",
   "id": "c0083bced3db3ffe"
  },
  {
   "metadata": {
    "ExecuteTime": {
     "end_time": "2025-07-01T15:13:29.835613Z",
     "start_time": "2025-07-01T15:13:29.832086Z"
    }
   },
   "cell_type": "code",
   "source": [
    "class User:\n",
    "    def __init__(self, username, email, password):\n",
    "        self.username = username\n",
    "        self.__email = email\n",
    "        self.password = password"
   ],
   "id": "340ed8d7cd986fc7",
   "outputs": [],
   "execution_count": 40
  },
  {
   "metadata": {
    "ExecuteTime": {
     "end_time": "2025-07-01T15:13:50.103514Z",
     "start_time": "2025-07-01T15:13:50.100188Z"
    }
   },
   "cell_type": "code",
   "source": "user_1 = User(\"Dantheman\", \"dan@gmail.com\", \"123\")",
   "id": "8cc700a869d776e9",
   "outputs": [],
   "execution_count": 41
  },
  {
   "metadata": {
    "ExecuteTime": {
     "end_time": "2025-07-01T15:14:01.721493Z",
     "start_time": "2025-07-01T15:14:01.698164Z"
    }
   },
   "cell_type": "code",
   "source": "print(user_1.__email)",
   "id": "ba2a3c570b5d1d2c",
   "outputs": [
    {
     "ename": "AttributeError",
     "evalue": "'User' object has no attribute '__email'",
     "output_type": "error",
     "traceback": [
      "\u001B[31m---------------------------------------------------------------------------\u001B[39m",
      "\u001B[31mAttributeError\u001B[39m                            Traceback (most recent call last)",
      "\u001B[36mCell\u001B[39m\u001B[36m \u001B[39m\u001B[32mIn[42]\u001B[39m\u001B[32m, line 1\u001B[39m\n\u001B[32m----> \u001B[39m\u001B[32m1\u001B[39m \u001B[38;5;28mprint\u001B[39m(\u001B[43muser_1\u001B[49m\u001B[43m.\u001B[49m\u001B[43m__email\u001B[49m)\n",
      "\u001B[31mAttributeError\u001B[39m: 'User' object has no attribute '__email'"
     ]
    }
   ],
   "execution_count": 42
  },
  {
   "metadata": {},
   "cell_type": "markdown",
   "source": [
    "when should you use protected and private variable?\n",
    "\n",
    "- protected variable: generally use this.\n",
    "- private variable: if necessary."
   ],
   "id": "d8b7f3024b8312a8"
  },
  {
   "metadata": {},
   "cell_type": "markdown",
   "source": "getter and setter in python. ⤵️",
   "id": "9412e7ce83b634da"
  },
  {
   "metadata": {
    "ExecuteTime": {
     "end_time": "2025-07-01T20:14:51.398316Z",
     "start_time": "2025-07-01T20:14:51.394679Z"
    }
   },
   "cell_type": "code",
   "source": "import datetime",
   "id": "4e411c0c5aa0b77c",
   "outputs": [],
   "execution_count": 58
  },
  {
   "metadata": {
    "ExecuteTime": {
     "end_time": "2025-07-01T20:14:51.672329Z",
     "start_time": "2025-07-01T20:14:51.666660Z"
    }
   },
   "cell_type": "code",
   "source": [
    "class User:\n",
    "    def __init__(self, username, email, password):\n",
    "        self.username = username\n",
    "        self._email = email\n",
    "        self.password = password\n",
    "\n",
    "    def get_email(self):\n",
    "        print(f\"Email accessed at: {datetime.datetime.now()}\")\n",
    "        return self._email\n",
    "\n",
    "    def set_email(self, new_email):\n",
    "        self._email = new_email"
   ],
   "id": "8fb2e0b583aabd26",
   "outputs": [],
   "execution_count": 59
  },
  {
   "metadata": {
    "ExecuteTime": {
     "end_time": "2025-07-01T20:14:52.325627Z",
     "start_time": "2025-07-01T20:14:52.322095Z"
    }
   },
   "cell_type": "code",
   "source": "user_1 = User(\"Dantheman\", \"dan@gmail.com\", \"123\")",
   "id": "3388272f7a73d0b7",
   "outputs": [],
   "execution_count": 60
  },
  {
   "metadata": {
    "ExecuteTime": {
     "end_time": "2025-07-01T20:14:53.093170Z",
     "start_time": "2025-07-01T20:14:53.088883Z"
    }
   },
   "cell_type": "code",
   "source": "print(user_1.get_email())",
   "id": "9cd5490bc92a8d8e",
   "outputs": [
    {
     "name": "stdout",
     "output_type": "stream",
     "text": [
      "Email accessed at: 2025-07-02 02:14:53.091144\n",
      "dan@gmail.com\n"
     ]
    }
   ],
   "execution_count": 61
  },
  {
   "metadata": {
    "ExecuteTime": {
     "end_time": "2025-07-01T20:11:24.197122Z",
     "start_time": "2025-07-01T20:11:24.191754Z"
    }
   },
   "cell_type": "code",
   "source": "user_1.set_email(\"danny@outlook.com\")",
   "id": "7e3252bb297fcd85",
   "outputs": [],
   "execution_count": 53
  },
  {
   "metadata": {
    "ExecuteTime": {
     "end_time": "2025-07-01T20:11:31.038200Z",
     "start_time": "2025-07-01T20:11:31.034476Z"
    }
   },
   "cell_type": "code",
   "source": "print(user_1.get_email())",
   "id": "2fd65f035217aafb",
   "outputs": [
    {
     "name": "stdout",
     "output_type": "stream",
     "text": [
      "danny@outlook.com\n"
     ]
    }
   ],
   "execution_count": 54
  },
  {
   "metadata": {},
   "cell_type": "markdown",
   "source": "By doing getter and setter we have more control over out attributes. we can do addition work to know what we are doing with our attributes. (For example: we can allow only the admin to get or change the email... this can be easily done when we use getter and setter technique) ⤴️",
   "id": "663c4e4c464d48f7"
  },
  {
   "metadata": {},
   "cell_type": "markdown",
   "source": "Modify the setter method for more practical use: ⤵️",
   "id": "cda8a88ca564eef9"
  },
  {
   "metadata": {
    "ExecuteTime": {
     "end_time": "2025-07-01T20:21:48.218208Z",
     "start_time": "2025-07-01T20:21:48.210602Z"
    }
   },
   "cell_type": "code",
   "source": [
    "class User:\n",
    "    def __init__(self, username, email, password):\n",
    "        self.username = username\n",
    "        self._email = email\n",
    "        self.password = password\n",
    "\n",
    "    def get_email(self):\n",
    "        print(f\"Email accessed at: {datetime.datetime.now()}\")\n",
    "        return self._email\n",
    "\n",
    "    def set_email(self, new_email):\n",
    "        if \"@\" in new_email:\n",
    "            self._email = new_email"
   ],
   "id": "58c9765797716ea8",
   "outputs": [],
   "execution_count": 62
  },
  {
   "metadata": {},
   "cell_type": "markdown",
   "source": "Pythonic way of Getter and Setter: Properties ⤵️",
   "id": "3092127023d563b5"
  },
  {
   "metadata": {
    "ExecuteTime": {
     "end_time": "2025-07-01T20:49:35.233859Z",
     "start_time": "2025-07-01T20:49:35.228715Z"
    }
   },
   "cell_type": "code",
   "source": [
    "class User:\n",
    "    def __init__(self, username, email, password):\n",
    "        self.username = username\n",
    "        self._email = email\n",
    "        self.password = password\n",
    "\n",
    "    @property\n",
    "    def email(self):\n",
    "        print(\"Email accessed..!\")\n",
    "        return self._email\n",
    "\n",
    "    @email.setter\n",
    "    def email(self, new_email):\n",
    "        if \"@\" in new_email:\n",
    "            self._email = new_email"
   ],
   "id": "1a0b44ab5af1e54c",
   "outputs": [],
   "execution_count": 73
  },
  {
   "metadata": {
    "ExecuteTime": {
     "end_time": "2025-07-01T20:49:36.065634Z",
     "start_time": "2025-07-01T20:49:36.061546Z"
    }
   },
   "cell_type": "code",
   "source": "user_1 = User(\"Dantheman\", \"dan@gmail.com\", \"123\")",
   "id": "87fd5bea8a1fe5ac",
   "outputs": [],
   "execution_count": 74
  },
  {
   "metadata": {
    "ExecuteTime": {
     "end_time": "2025-07-01T20:49:36.923272Z",
     "start_time": "2025-07-01T20:49:36.918752Z"
    }
   },
   "cell_type": "code",
   "source": [
    "user_1.email = \"danny@gmail.com\"\n",
    "print(user_1.email)"
   ],
   "id": "ad094bc2959dcc6e",
   "outputs": [
    {
     "name": "stdout",
     "output_type": "stream",
     "text": [
      "Email accessed..!\n",
      "danny@gmail.com\n"
     ]
    }
   ],
   "execution_count": 75
  },
  {
   "metadata": {},
   "cell_type": "markdown",
   "source": [
    "Static attributes. ⤵️\n",
    "\n",
    "A static attribute (sometimes called a class attribute) is an attribute that belongs to the class itself, not to any specific instance of the class."
   ],
   "id": "66269dbe220f5572"
  },
  {
   "metadata": {},
   "cell_type": "markdown",
   "source": "Keep track of the number of User object. ⤵️",
   "id": "9bd11e6717b962aa"
  },
  {
   "metadata": {
    "ExecuteTime": {
     "end_time": "2025-07-01T21:15:36.053120Z",
     "start_time": "2025-07-01T21:15:36.046301Z"
    }
   },
   "cell_type": "code",
   "source": [
    "# Static attributes\n",
    "\n",
    "class User:\n",
    "    user_count = 0\n",
    "\n",
    "    def __init__(self, username, email):\n",
    "        self.username = username\n",
    "        self.email = email\n",
    "        User.user_count += 1\n",
    "\n",
    "    def display_user(self):\n",
    "        print(f\"Username: {self.username} | Email: {self.email}\")"
   ],
   "id": "be6c8828193a3d93",
   "outputs": [],
   "execution_count": 77
  },
  {
   "metadata": {
    "ExecuteTime": {
     "end_time": "2025-07-01T21:16:40.563926Z",
     "start_time": "2025-07-01T21:16:40.559088Z"
    }
   },
   "cell_type": "code",
   "source": [
    "user_1 = User(\"dantheman\", \"dan@gmail.com\")\n",
    "user_2 = User(\"sally123\", \"sally@gmail.com\")"
   ],
   "id": "e7538bfd013fc54d",
   "outputs": [],
   "execution_count": 78
  },
  {
   "metadata": {
    "ExecuteTime": {
     "end_time": "2025-07-01T21:18:25.089075Z",
     "start_time": "2025-07-01T21:18:25.084499Z"
    }
   },
   "cell_type": "code",
   "source": [
    "print(User.user_count)\n",
    "print(user_1.user_count)\n",
    "print(user_2.user_count)"
   ],
   "id": "1744cbe93b0cee68",
   "outputs": [
    {
     "name": "stdout",
     "output_type": "stream",
     "text": [
      "2\n",
      "2\n",
      "2\n"
     ]
    }
   ],
   "execution_count": 80
  },
  {
   "metadata": {},
   "cell_type": "markdown",
   "source": [
    "Static Methods ⤵️\n",
    "\n",
    "A static method in Python is a method that belongs to the class itself rather than any instance of the class.\n",
    "\n",
    "To define a static method, we use the `@staticmethod` decorator."
   ],
   "id": "c70df33718f46ea9"
  },
  {
   "metadata": {},
   "cell_type": "markdown",
   "source": "Static vs. Instance Method Example:",
   "id": "ff9459a2cc18505e"
  },
  {
   "metadata": {
    "ExecuteTime": {
     "end_time": "2025-07-01T21:28:48.671576Z",
     "start_time": "2025-07-01T21:28:48.665066Z"
    }
   },
   "cell_type": "code",
   "source": [
    "class BankAccount:\n",
    "    MIN_BALANCE = 100\n",
    "\n",
    "    def __init__(self, owner, balance = 0):\n",
    "        self.owner = owner\n",
    "        self._balance = balance\n",
    "\n",
    "    def deposit(self, amount):\n",
    "        if amount > 0:\n",
    "            self._balance += amount\n",
    "            print(f\"Deposited {amount} to {self.owner} | Balance: {self._balance}\")\n",
    "        else:\n",
    "            print(\"Not deposited..!\")\n",
    "\n",
    "    @staticmethod\n",
    "    def is_valid_interest_rate(rate):\n",
    "        return 0 <= rate <= 5"
   ],
   "id": "32753360c51a2223",
   "outputs": [],
   "execution_count": 81
  },
  {
   "metadata": {},
   "cell_type": "code",
   "outputs": [],
   "execution_count": null,
   "source": "",
   "id": "da6c78f4b44a0a3d"
  }
 ],
 "metadata": {
  "kernelspec": {
   "display_name": "Python 3",
   "language": "python",
   "name": "python3"
  },
  "language_info": {
   "codemirror_mode": {
    "name": "ipython",
    "version": 2
   },
   "file_extension": ".py",
   "mimetype": "text/x-python",
   "name": "python",
   "nbconvert_exporter": "python",
   "pygments_lexer": "ipython2",
   "version": "2.7.6"
  }
 },
 "nbformat": 4,
 "nbformat_minor": 5
}
