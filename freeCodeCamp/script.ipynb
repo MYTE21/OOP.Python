{
 "cells": [
  {
   "metadata": {},
   "cell_type": "markdown",
   "source": "Everything in python is a class. ⤵️",
   "id": "bf10d5d45af9976e"
  },
  {
   "cell_type": "code",
   "id": "initial_id",
   "metadata": {
    "collapsed": true,
    "ExecuteTime": {
     "end_time": "2025-07-02T17:00:58.480173Z",
     "start_time": "2025-07-02T17:00:58.477045Z"
    }
   },
   "source": [
    "name = \"Danny\"\n",
    "age = 29\n",
    "\n",
    "print(type(name))\n",
    "print(type(age))"
   ],
   "outputs": [
    {
     "name": "stdout",
     "output_type": "stream",
     "text": [
      "<class 'str'>\n",
      "<class 'int'>\n"
     ]
    }
   ],
   "execution_count": 1
  },
  {
   "metadata": {},
   "cell_type": "markdown",
   "source": "Different objects have different methods. ⤵️",
   "id": "4b7f727f49d8f91"
  },
  {
   "metadata": {
    "ExecuteTime": {
     "end_time": "2025-07-02T17:00:58.569386Z",
     "start_time": "2025-07-02T17:00:58.567453Z"
    }
   },
   "cell_type": "code",
   "source": "print(name.upper())  #uppercase all the letter in the string",
   "id": "a3bd28c15462f9ec",
   "outputs": [
    {
     "name": "stdout",
     "output_type": "stream",
     "text": [
      "DANNY\n"
     ]
    }
   ],
   "execution_count": 2
  },
  {
   "metadata": {},
   "cell_type": "markdown",
   "source": "Create our own class. ⤵️",
   "id": "61d9e4a1cce005d9"
  },
  {
   "metadata": {
    "ExecuteTime": {
     "end_time": "2025-07-02T17:00:58.580669Z",
     "start_time": "2025-07-02T17:00:58.578316Z"
    }
   },
   "cell_type": "code",
   "source": [
    "class Dog:\n",
    "    def bark(self):\n",
    "        print(\"Woof Woof!\")\n",
    "\n",
    "dog_1 = Dog()\n",
    "dog_1.bark()"
   ],
   "id": "a4fe7e4c6326180",
   "outputs": [
    {
     "name": "stdout",
     "output_type": "stream",
     "text": [
      "Woof Woof!\n"
     ]
    }
   ],
   "execution_count": 3
  },
  {
   "metadata": {
    "ExecuteTime": {
     "end_time": "2025-07-02T17:00:58.595748Z",
     "start_time": "2025-07-02T17:00:58.593941Z"
    }
   },
   "cell_type": "code",
   "source": [
    "dog_2 = Dog()\n",
    "dog_2.bark()"
   ],
   "id": "829b573834f7b615",
   "outputs": [
    {
     "name": "stdout",
     "output_type": "stream",
     "text": [
      "Woof Woof!\n"
     ]
    }
   ],
   "execution_count": 4
  },
  {
   "metadata": {},
   "cell_type": "markdown",
   "source": "add attributes and data in the Dog class. ⤵️",
   "id": "7c90dfb5f233ce00"
  },
  {
   "metadata": {
    "ExecuteTime": {
     "end_time": "2025-07-02T17:00:58.618507Z",
     "start_time": "2025-07-02T17:00:58.616555Z"
    }
   },
   "cell_type": "code",
   "source": [
    "class Dog:\n",
    "    def __init__(self, firstname, breed):\n",
    "        self.name = firstname\n",
    "        self.breed = breed\n",
    "\n",
    "    def bark(self):\n",
    "        print(\"Woof Woof!\")"
   ],
   "id": "4ff1d8586f5d4353",
   "outputs": [],
   "execution_count": 5
  },
  {
   "metadata": {
    "ExecuteTime": {
     "end_time": "2025-07-02T17:00:58.629372Z",
     "start_time": "2025-07-02T17:00:58.627206Z"
    }
   },
   "cell_type": "code",
   "source": [
    "dog_1 = Dog(\"Bruce\", \"Scottish Terrier\")\n",
    "dog_1.bark()\n",
    "print(dog_1.name) # data field\n",
    "print(dog_1.breed) # data field"
   ],
   "id": "ffdab7807f6d5ba8",
   "outputs": [
    {
     "name": "stdout",
     "output_type": "stream",
     "text": [
      "Woof Woof!\n",
      "Bruce\n",
      "Scottish Terrier\n"
     ]
    }
   ],
   "execution_count": 6
  },
  {
   "metadata": {
    "ExecuteTime": {
     "end_time": "2025-07-02T17:00:58.644074Z",
     "start_time": "2025-07-02T17:00:58.642107Z"
    }
   },
   "cell_type": "code",
   "source": [
    "dog_2 = Dog(\"Freya\", \"Greyhound\")\n",
    "dog_2.bark()\n",
    "print(dog_2.name)\n",
    "print(dog_2.breed)"
   ],
   "id": "e1912c97fd153a3e",
   "outputs": [
    {
     "name": "stdout",
     "output_type": "stream",
     "text": [
      "Woof Woof!\n",
      "Freya\n",
      "Greyhound\n"
     ]
    }
   ],
   "execution_count": 7
  },
  {
   "metadata": {},
   "cell_type": "markdown",
   "source": "2 class together. ⤵️",
   "id": "c46d703b50a4a0b5"
  },
  {
   "metadata": {
    "ExecuteTime": {
     "end_time": "2025-07-02T17:00:58.659257Z",
     "start_time": "2025-07-02T17:00:58.657139Z"
    }
   },
   "cell_type": "code",
   "source": [
    "class Owner:\n",
    "    def __init__(self, name, address, contact_number):\n",
    "        self.name = name\n",
    "        self.address = address\n",
    "        self.phone_number = contact_number"
   ],
   "id": "b011e9529157a96f",
   "outputs": [],
   "execution_count": 8
  },
  {
   "metadata": {
    "ExecuteTime": {
     "end_time": "2025-07-02T17:00:58.672216Z",
     "start_time": "2025-07-02T17:00:58.670408Z"
    }
   },
   "cell_type": "code",
   "source": [
    "class Dog:\n",
    "    def __init__(self, firstname, breed, owner):\n",
    "        self.name = firstname\n",
    "        self.breed = breed\n",
    "        self.owner = owner\n",
    "\n",
    "    def bark(self):\n",
    "        print(\"Woof Woof!\")"
   ],
   "id": "79a3a24fff030af",
   "outputs": [],
   "execution_count": 9
  },
  {
   "metadata": {
    "ExecuteTime": {
     "end_time": "2025-07-02T17:00:58.681522Z",
     "start_time": "2025-07-02T17:00:58.679396Z"
    }
   },
   "cell_type": "code",
   "source": [
    "owner_1 = Owner(\"Danny\", \"122 Springfield Drive\", \"888-999\")\n",
    "dog_1 = Dog(\"Bruce\", \"Scottish Terrier\", owner_1)\n",
    "\n",
    "print(dog_1.owner.name)"
   ],
   "id": "c7e1b8f56a8657fe",
   "outputs": [
    {
     "name": "stdout",
     "output_type": "stream",
     "text": [
      "Danny\n"
     ]
    }
   ],
   "execution_count": 10
  },
  {
   "metadata": {},
   "cell_type": "markdown",
   "source": "More object-oriented programming. ⤵️",
   "id": "78c764faf7f9bd33"
  },
  {
   "metadata": {
    "ExecuteTime": {
     "end_time": "2025-07-02T17:00:58.700329Z",
     "start_time": "2025-07-02T17:00:58.698240Z"
    }
   },
   "cell_type": "code",
   "source": [
    "class Person:\n",
    "    def __init__(self, name, age):\n",
    "        self.name = name\n",
    "        self.age = age\n",
    "\n",
    "    def greet(self):\n",
    "        print(f\"Hello, my name is {self.name} and I am {self.age} years old.\")"
   ],
   "id": "1fc0979c35d437de",
   "outputs": [],
   "execution_count": 11
  },
  {
   "metadata": {
    "ExecuteTime": {
     "end_time": "2025-07-02T17:00:58.714714Z",
     "start_time": "2025-07-02T17:00:58.712818Z"
    }
   },
   "cell_type": "code",
   "source": [
    "person_1 = Person(\"Alice\", 30)\n",
    "person_1.greet()"
   ],
   "id": "8ec6ba96fed40884",
   "outputs": [
    {
     "name": "stdout",
     "output_type": "stream",
     "text": [
      "Hello, my name is Alice and I am 30 years old.\n"
     ]
    }
   ],
   "execution_count": 12
  },
  {
   "metadata": {
    "ExecuteTime": {
     "end_time": "2025-07-02T17:00:58.733240Z",
     "start_time": "2025-07-02T17:00:58.730800Z"
    }
   },
   "cell_type": "code",
   "source": [
    "person_2 = Person(\"Bob\", 42)\n",
    "person_2.greet()"
   ],
   "id": "75257f90c236c1ae",
   "outputs": [
    {
     "name": "stdout",
     "output_type": "stream",
     "text": [
      "Hello, my name is Bob and I am 42 years old.\n"
     ]
    }
   ],
   "execution_count": 13
  },
  {
   "metadata": {},
   "cell_type": "markdown",
   "source": "Accessing and modifying data in an object and doing it preferred way in Python. ⤵️",
   "id": "8f99c72c006465d0"
  },
  {
   "metadata": {
    "ExecuteTime": {
     "end_time": "2025-07-02T17:00:58.755676Z",
     "start_time": "2025-07-02T17:00:58.753750Z"
    }
   },
   "cell_type": "code",
   "source": [
    "class User:\n",
    "    def __init__(self, username, email, password):\n",
    "        self.username = username\n",
    "        self.email = email\n",
    "        self.password = password\n",
    "\n",
    "    def say_hi_to_user(self, user):\n",
    "        print(f\"Sending message to {user.username}: Hi {user.username}, it's {self.username}!\")"
   ],
   "id": "316bc41ebf9a3235",
   "outputs": [],
   "execution_count": 14
  },
  {
   "metadata": {
    "ExecuteTime": {
     "end_time": "2025-07-02T17:00:58.765567Z",
     "start_time": "2025-07-02T17:00:58.763581Z"
    }
   },
   "cell_type": "code",
   "source": [
    "user_1 = User(\"Dantheman\", \"dan@gmail.com\", \"123\")\n",
    "user_2 = User(\"Batman\", \"bat@gmail.com\", \"abc\")"
   ],
   "id": "ac272068f404d254",
   "outputs": [],
   "execution_count": 15
  },
  {
   "metadata": {
    "ExecuteTime": {
     "end_time": "2025-07-02T17:00:58.773047Z",
     "start_time": "2025-07-02T17:00:58.771287Z"
    }
   },
   "cell_type": "code",
   "source": "user_1.say_hi_to_user(user_2)",
   "id": "919ea768664e41",
   "outputs": [
    {
     "name": "stdout",
     "output_type": "stream",
     "text": [
      "Sending message to Batman: Hi Batman, it's Dantheman!\n"
     ]
    }
   ],
   "execution_count": 16
  },
  {
   "metadata": {
    "ExecuteTime": {
     "end_time": "2025-07-02T17:00:58.800830Z",
     "start_time": "2025-07-02T17:00:58.798638Z"
    }
   },
   "cell_type": "code",
   "source": "print(user_1.email)",
   "id": "8f591941a08709c5",
   "outputs": [
    {
     "name": "stdout",
     "output_type": "stream",
     "text": [
      "dan@gmail.com\n"
     ]
    }
   ],
   "execution_count": 17
  },
  {
   "metadata": {
    "ExecuteTime": {
     "end_time": "2025-07-02T17:00:58.825957Z",
     "start_time": "2025-07-02T17:00:58.824270Z"
    }
   },
   "cell_type": "code",
   "source": "user_1.email = \"danny@gmail.com\"",
   "id": "f1f8a42aaf2f41ee",
   "outputs": [],
   "execution_count": 18
  },
  {
   "metadata": {
    "ExecuteTime": {
     "end_time": "2025-07-02T17:00:58.836512Z",
     "start_time": "2025-07-02T17:00:58.834810Z"
    }
   },
   "cell_type": "code",
   "source": "print(user_1.email)",
   "id": "fb3508c7b7940426",
   "outputs": [
    {
     "name": "stdout",
     "output_type": "stream",
     "text": [
      "danny@gmail.com\n"
     ]
    }
   ],
   "execution_count": 19
  },
  {
   "metadata": {},
   "cell_type": "markdown",
   "source": [
    "Accessing and Modifying data </br>\n",
    "Getter and Setter in Java way (most popular way). </br>\n",
    "make the data private and use getters and setters. ⤵️"
   ],
   "id": "97d71d6d3367cb82"
  },
  {
   "metadata": {
    "ExecuteTime": {
     "end_time": "2025-07-02T17:00:58.861618Z",
     "start_time": "2025-07-02T17:00:58.859785Z"
    }
   },
   "cell_type": "code",
   "source": [
    "class User:\n",
    "    def __init__(self, username, email, password):\n",
    "        self.username = username\n",
    "        self._email = email\n",
    "        self.password = password\n",
    "\n",
    "    def clean_email(self):\n",
    "        return self._email.lower().strip()"
   ],
   "id": "d57b9b49f958fd8a",
   "outputs": [],
   "execution_count": 20
  },
  {
   "metadata": {},
   "cell_type": "markdown",
   "source": "Python takes on access modifiers. (private, protected and public)",
   "id": "5bc4e3baf1947aed"
  },
  {
   "metadata": {
    "ExecuteTime": {
     "end_time": "2025-07-02T17:00:58.875374Z",
     "start_time": "2025-07-02T17:00:58.873666Z"
    }
   },
   "cell_type": "code",
   "source": "user_1 = User(\"Dantheman\", \"Dan@gmail.com \", \"123\")",
   "id": "695752f992278666",
   "outputs": [],
   "execution_count": 21
  },
  {
   "metadata": {
    "ExecuteTime": {
     "end_time": "2025-07-02T17:00:58.883040Z",
     "start_time": "2025-07-02T17:00:58.881359Z"
    }
   },
   "cell_type": "code",
   "source": "# print(user_1._email) #! shouldn't access this as _email is protected",
   "id": "e26f00442727ad27",
   "outputs": [],
   "execution_count": 22
  },
  {
   "metadata": {
    "ExecuteTime": {
     "end_time": "2025-07-02T17:00:58.890192Z",
     "start_time": "2025-07-02T17:00:58.888624Z"
    }
   },
   "cell_type": "code",
   "source": "print(user_1.clean_email())",
   "id": "6d5711377f76c1ba",
   "outputs": [
    {
     "name": "stdout",
     "output_type": "stream",
     "text": [
      "dan@gmail.com\n"
     ]
    }
   ],
   "execution_count": 23
  },
  {
   "metadata": {},
   "cell_type": "markdown",
   "source": "The \"Consenting Adults\" Philosophy of Python.",
   "id": "f79bbe3fdfe12b51"
  },
  {
   "metadata": {},
   "cell_type": "markdown",
   "source": "You can make the attributes private (name mangled attribute) and then it'll be impossible to access from outside the scope. (Python changes the name of the private attribute so that it can't be accessed) ⤵️",
   "id": "c0083bced3db3ffe"
  },
  {
   "metadata": {
    "ExecuteTime": {
     "end_time": "2025-07-02T17:00:58.906332Z",
     "start_time": "2025-07-02T17:00:58.904531Z"
    }
   },
   "cell_type": "code",
   "source": [
    "class User:\n",
    "    def __init__(self, username, email, password):\n",
    "        self.username = username\n",
    "        self.__email = email\n",
    "        self.password = password"
   ],
   "id": "340ed8d7cd986fc7",
   "outputs": [],
   "execution_count": 24
  },
  {
   "metadata": {
    "ExecuteTime": {
     "end_time": "2025-07-02T17:00:58.924081Z",
     "start_time": "2025-07-02T17:00:58.921997Z"
    }
   },
   "cell_type": "code",
   "source": "user_1 = User(\"Dantheman\", \"dan@gmail.com\", \"123\")",
   "id": "8cc700a869d776e9",
   "outputs": [],
   "execution_count": 25
  },
  {
   "metadata": {
    "ExecuteTime": {
     "end_time": "2025-07-02T17:00:58.933834Z",
     "start_time": "2025-07-02T17:00:58.932298Z"
    }
   },
   "cell_type": "code",
   "source": "# print(user_1.__email)",
   "id": "ba2a3c570b5d1d2c",
   "outputs": [],
   "execution_count": 26
  },
  {
   "metadata": {},
   "cell_type": "markdown",
   "source": [
    "when should you use protected and private variable?\n",
    "\n",
    "- protected variable: generally use this.\n",
    "- private variable: if necessary."
   ],
   "id": "d8b7f3024b8312a8"
  },
  {
   "metadata": {},
   "cell_type": "markdown",
   "source": "getter and setter in python. ⤵️",
   "id": "9412e7ce83b634da"
  },
  {
   "metadata": {
    "ExecuteTime": {
     "end_time": "2025-07-02T17:00:58.942244Z",
     "start_time": "2025-07-02T17:00:58.940662Z"
    }
   },
   "cell_type": "code",
   "source": "import datetime",
   "id": "4e411c0c5aa0b77c",
   "outputs": [],
   "execution_count": 27
  },
  {
   "metadata": {
    "ExecuteTime": {
     "end_time": "2025-07-02T17:00:58.951681Z",
     "start_time": "2025-07-02T17:00:58.949843Z"
    }
   },
   "cell_type": "code",
   "source": [
    "class User:\n",
    "    def __init__(self, username, email, password):\n",
    "        self.username = username\n",
    "        self._email = email\n",
    "        self.password = password\n",
    "\n",
    "    def get_email(self):\n",
    "        print(f\"Email accessed at: {datetime.datetime.now()}\")\n",
    "        return self._email\n",
    "\n",
    "    def set_email(self, new_email):\n",
    "        self._email = new_email"
   ],
   "id": "8fb2e0b583aabd26",
   "outputs": [],
   "execution_count": 28
  },
  {
   "metadata": {
    "ExecuteTime": {
     "end_time": "2025-07-02T17:00:58.959550Z",
     "start_time": "2025-07-02T17:00:58.957696Z"
    }
   },
   "cell_type": "code",
   "source": "user_1 = User(\"Dantheman\", \"dan@gmail.com\", \"123\")",
   "id": "3388272f7a73d0b7",
   "outputs": [],
   "execution_count": 29
  },
  {
   "metadata": {
    "ExecuteTime": {
     "end_time": "2025-07-02T17:00:58.967006Z",
     "start_time": "2025-07-02T17:00:58.965102Z"
    }
   },
   "cell_type": "code",
   "source": "print(user_1.get_email())",
   "id": "9cd5490bc92a8d8e",
   "outputs": [
    {
     "name": "stdout",
     "output_type": "stream",
     "text": [
      "Email accessed at: 2025-07-02 23:00:58.965663\n",
      "dan@gmail.com\n"
     ]
    }
   ],
   "execution_count": 30
  },
  {
   "metadata": {
    "ExecuteTime": {
     "end_time": "2025-07-02T17:00:58.981314Z",
     "start_time": "2025-07-02T17:00:58.979873Z"
    }
   },
   "cell_type": "code",
   "source": "user_1.set_email(\"danny@outlook.com\")",
   "id": "7e3252bb297fcd85",
   "outputs": [],
   "execution_count": 31
  },
  {
   "metadata": {
    "ExecuteTime": {
     "end_time": "2025-07-02T17:00:58.996491Z",
     "start_time": "2025-07-02T17:00:58.994817Z"
    }
   },
   "cell_type": "code",
   "source": "print(user_1.get_email())",
   "id": "2fd65f035217aafb",
   "outputs": [
    {
     "name": "stdout",
     "output_type": "stream",
     "text": [
      "Email accessed at: 2025-07-02 23:00:58.995277\n",
      "danny@outlook.com\n"
     ]
    }
   ],
   "execution_count": 32
  },
  {
   "metadata": {},
   "cell_type": "markdown",
   "source": "By doing getter and setter we have more control over out attributes. we can do addition work to know what we are doing with our attributes. (For example: we can allow only the admin to get or change the email... this can be easily done when we use getter and setter technique) ⤴️",
   "id": "663c4e4c464d48f7"
  },
  {
   "metadata": {},
   "cell_type": "markdown",
   "source": "Modify the setter method for more practical use: ⤵️",
   "id": "cda8a88ca564eef9"
  },
  {
   "metadata": {
    "ExecuteTime": {
     "end_time": "2025-07-02T17:00:59.014703Z",
     "start_time": "2025-07-02T17:00:59.012047Z"
    }
   },
   "cell_type": "code",
   "source": [
    "class User:\n",
    "    def __init__(self, username, email, password):\n",
    "        self.username = username\n",
    "        self._email = email\n",
    "        self.password = password\n",
    "\n",
    "    def get_email(self):\n",
    "        print(f\"Email accessed at: {datetime.datetime.now()}\")\n",
    "        return self._email\n",
    "\n",
    "    def set_email(self, new_email):\n",
    "        if \"@\" in new_email:\n",
    "            self._email = new_email"
   ],
   "id": "58c9765797716ea8",
   "outputs": [],
   "execution_count": 33
  },
  {
   "metadata": {},
   "cell_type": "markdown",
   "source": "Pythonic way of Getter and Setter: Properties ⤵️",
   "id": "3092127023d563b5"
  },
  {
   "metadata": {
    "ExecuteTime": {
     "end_time": "2025-07-02T17:00:59.027328Z",
     "start_time": "2025-07-02T17:00:59.025400Z"
    }
   },
   "cell_type": "code",
   "source": [
    "class User:\n",
    "    def __init__(self, username, email, password):\n",
    "        self.username = username\n",
    "        self._email = email\n",
    "        self.password = password\n",
    "\n",
    "    @property\n",
    "    def email(self):\n",
    "        print(\"Email accessed..!\")\n",
    "        return self._email\n",
    "\n",
    "    @email.setter\n",
    "    def email(self, new_email):\n",
    "        if \"@\" in new_email:\n",
    "            self._email = new_email"
   ],
   "id": "1a0b44ab5af1e54c",
   "outputs": [],
   "execution_count": 34
  },
  {
   "metadata": {
    "ExecuteTime": {
     "end_time": "2025-07-02T17:00:59.034103Z",
     "start_time": "2025-07-02T17:00:59.032317Z"
    }
   },
   "cell_type": "code",
   "source": "user_1 = User(\"Dantheman\", \"dan@gmail.com\", \"123\")",
   "id": "87fd5bea8a1fe5ac",
   "outputs": [],
   "execution_count": 35
  },
  {
   "metadata": {
    "ExecuteTime": {
     "end_time": "2025-07-02T17:00:59.041123Z",
     "start_time": "2025-07-02T17:00:59.039399Z"
    }
   },
   "cell_type": "code",
   "source": [
    "user_1.email = \"danny@gmail.com\"\n",
    "print(user_1.email)"
   ],
   "id": "ad094bc2959dcc6e",
   "outputs": [
    {
     "name": "stdout",
     "output_type": "stream",
     "text": [
      "Email accessed..!\n",
      "danny@gmail.com\n"
     ]
    }
   ],
   "execution_count": 36
  },
  {
   "metadata": {},
   "cell_type": "markdown",
   "source": [
    "Static attributes. ⤵️\n",
    "\n",
    "A static attribute (sometimes called a class attribute) is an attribute that belongs to the class itself, not to any specific instance of the class."
   ],
   "id": "66269dbe220f5572"
  },
  {
   "metadata": {},
   "cell_type": "markdown",
   "source": "Keep track of the number of User object. ⤵️",
   "id": "9bd11e6717b962aa"
  },
  {
   "metadata": {
    "ExecuteTime": {
     "end_time": "2025-07-02T17:00:59.055945Z",
     "start_time": "2025-07-02T17:00:59.054059Z"
    }
   },
   "cell_type": "code",
   "source": [
    "# Static attributes\n",
    "\n",
    "class User:\n",
    "    user_count = 0\n",
    "\n",
    "    def __init__(self, username, email):\n",
    "        self.username = username\n",
    "        self.email = email\n",
    "        User.user_count += 1\n",
    "\n",
    "    def display_user(self):\n",
    "        print(f\"Username: {self.username} | Email: {self.email}\")"
   ],
   "id": "be6c8828193a3d93",
   "outputs": [],
   "execution_count": 37
  },
  {
   "metadata": {
    "ExecuteTime": {
     "end_time": "2025-07-02T17:00:59.067543Z",
     "start_time": "2025-07-02T17:00:59.065561Z"
    }
   },
   "cell_type": "code",
   "source": [
    "user_1 = User(\"dantheman\", \"dan@gmail.com\")\n",
    "user_2 = User(\"sally123\", \"sally@gmail.com\")"
   ],
   "id": "e7538bfd013fc54d",
   "outputs": [],
   "execution_count": 38
  },
  {
   "metadata": {
    "ExecuteTime": {
     "end_time": "2025-07-02T17:00:59.074884Z",
     "start_time": "2025-07-02T17:00:59.073042Z"
    }
   },
   "cell_type": "code",
   "source": [
    "print(User.user_count)\n",
    "print(user_1.user_count)\n",
    "print(user_2.user_count)"
   ],
   "id": "1744cbe93b0cee68",
   "outputs": [
    {
     "name": "stdout",
     "output_type": "stream",
     "text": [
      "2\n",
      "2\n",
      "2\n"
     ]
    }
   ],
   "execution_count": 39
  },
  {
   "metadata": {},
   "cell_type": "markdown",
   "source": [
    "Static Methods ⤵️\n",
    "\n",
    "A static method in Python is a method that belongs to the class itself rather than any instance of the class.\n",
    "\n",
    "To define a static method, we use the `@staticmethod` decorator."
   ],
   "id": "c70df33718f46ea9"
  },
  {
   "metadata": {},
   "cell_type": "markdown",
   "source": "Static vs. Instance Method Example:",
   "id": "ff9459a2cc18505e"
  },
  {
   "metadata": {
    "ExecuteTime": {
     "end_time": "2025-07-02T17:00:59.089269Z",
     "start_time": "2025-07-02T17:00:59.087138Z"
    }
   },
   "cell_type": "code",
   "source": [
    "class BankAccount:\n",
    "    MIN_BALANCE = 100\n",
    "\n",
    "    def __init__(self, owner, balance = 0):\n",
    "        self.owner = owner\n",
    "        self._balance = balance\n",
    "\n",
    "    def deposit(self, amount):\n",
    "        if amount > 0:\n",
    "            self._balance += amount\n",
    "            print(f\"Deposited {amount} to {self.owner} | Balance: {self._balance}\")\n",
    "        else:\n",
    "            print(\"Not deposited..!\")\n",
    "\n",
    "    @staticmethod\n",
    "    def is_valid_interest_rate(rate):\n",
    "        return 0 <= rate <= 5"
   ],
   "id": "32753360c51a2223",
   "outputs": [],
   "execution_count": 40
  },
  {
   "metadata": {
    "ExecuteTime": {
     "end_time": "2025-07-02T17:04:27.940596Z",
     "start_time": "2025-07-02T17:04:27.938142Z"
    }
   },
   "cell_type": "code",
   "source": [
    "account = BankAccount(\"Alice\", 500)\n",
    "account.deposit(200)"
   ],
   "id": "da6c78f4b44a0a3d",
   "outputs": [
    {
     "name": "stdout",
     "output_type": "stream",
     "text": [
      "Deposited 200 to Alice | Balance: 700\n"
     ]
    }
   ],
   "execution_count": 41
  },
  {
   "metadata": {
    "ExecuteTime": {
     "end_time": "2025-07-02T17:04:59.426790Z",
     "start_time": "2025-07-02T17:04:59.424519Z"
    }
   },
   "cell_type": "code",
   "source": "print(BankAccount.is_valid_interest_rate(3))",
   "id": "d566ba4afe122edc",
   "outputs": [
    {
     "name": "stdout",
     "output_type": "stream",
     "text": [
      "True\n"
     ]
    }
   ],
   "execution_count": 42
  },
  {
   "metadata": {
    "ExecuteTime": {
     "end_time": "2025-07-02T17:05:07.875722Z",
     "start_time": "2025-07-02T17:05:07.873705Z"
    }
   },
   "cell_type": "code",
   "source": "print(BankAccount.is_valid_interest_rate(10))",
   "id": "cb49ed3278ba3676",
   "outputs": [
    {
     "name": "stdout",
     "output_type": "stream",
     "text": [
      "False\n"
     ]
    }
   ],
   "execution_count": 43
  },
  {
   "metadata": {},
   "cell_type": "markdown",
   "source": "protected and private methods. ⤵️",
   "id": "80cc536b4eb8a424"
  },
  {
   "metadata": {
    "ExecuteTime": {
     "end_time": "2025-07-02T17:16:17.787026Z",
     "start_time": "2025-07-02T17:16:17.782279Z"
    }
   },
   "cell_type": "code",
   "source": [
    "class BankAccount:\n",
    "    MIN_BALANCE = 100\n",
    "\n",
    "    def __init__(self, owner, balance = 0):\n",
    "        self.owner = owner\n",
    "        self._balance = balance\n",
    "\n",
    "    def deposit(self, amount):\n",
    "        if self._is_valid_amount(amount):\n",
    "            self._balance += amount\n",
    "            self.__log_transaction(\"deposit\", amount)\n",
    "        else:\n",
    "            print(\"Not deposited..!\")\n",
    "\n",
    "    @staticmethod\n",
    "    def _is_valid_amount(amount):\n",
    "        return amount > 0\n",
    "\n",
    "    def __log_transaction(self, transaction_type, amount):\n",
    "        print(f\"Logging {transaction_type} of ${amount} for {self.owner}. New balance: ${self._balance}\")\n",
    "\n",
    "    @staticmethod\n",
    "    def is_valid_interest_rate(rate):\n",
    "        return 0 <= rate <= 5"
   ],
   "id": "7bceae220f76fe99",
   "outputs": [],
   "execution_count": 54
  },
  {
   "metadata": {
    "ExecuteTime": {
     "end_time": "2025-07-02T17:16:18.508367Z",
     "start_time": "2025-07-02T17:16:18.505039Z"
    }
   },
   "cell_type": "code",
   "source": [
    "account = BankAccount(\"Alice\", 500)\n",
    "account.deposit(200)"
   ],
   "id": "ca7248ddc1c4dc73",
   "outputs": [
    {
     "name": "stdout",
     "output_type": "stream",
     "text": [
      "Logging deposit of $200 for Alice. New balance: $700\n"
     ]
    }
   ],
   "execution_count": 55
  },
  {
   "metadata": {
    "ExecuteTime": {
     "end_time": "2025-07-02T17:17:29.316194Z",
     "start_time": "2025-07-02T17:17:29.312944Z"
    }
   },
   "cell_type": "code",
   "source": "print(BankAccount.is_valid_interest_rate(3))",
   "id": "f9c89362c789fa",
   "outputs": [
    {
     "name": "stdout",
     "output_type": "stream",
     "text": [
      "True\n"
     ]
    }
   ],
   "execution_count": 56
  },
  {
   "metadata": {
    "ExecuteTime": {
     "end_time": "2025-07-02T17:17:30.868840Z",
     "start_time": "2025-07-02T17:17:30.866345Z"
    }
   },
   "cell_type": "code",
   "source": "print(BankAccount.is_valid_interest_rate(10))",
   "id": "42e728c240d67c2b",
   "outputs": [
    {
     "name": "stdout",
     "output_type": "stream",
     "text": [
      "False\n"
     ]
    }
   ],
   "execution_count": 57
  }
 ],
 "metadata": {
  "kernelspec": {
   "display_name": "Python 3",
   "language": "python",
   "name": "python3"
  },
  "language_info": {
   "codemirror_mode": {
    "name": "ipython",
    "version": 2
   },
   "file_extension": ".py",
   "mimetype": "text/x-python",
   "name": "python",
   "nbconvert_exporter": "python",
   "pygments_lexer": "ipython2",
   "version": "2.7.6"
  }
 },
 "nbformat": 4,
 "nbformat_minor": 5
}
