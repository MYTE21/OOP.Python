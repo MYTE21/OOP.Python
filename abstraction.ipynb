{
 "cells": [
  {
   "cell_type": "code",
   "execution_count": 1,
   "metadata": {
    "collapsed": true
   },
   "outputs": [],
   "source": [
    "from abc import ABC, abstractmethod"
   ]
  },
  {
   "cell_type": "code",
   "execution_count": 2,
   "outputs": [],
   "source": [
    "class Book(ABC):\n",
    "    def __init__(self, title, quantity, author, price):\n",
    "        self.title = title\n",
    "        self.quantity = quantity\n",
    "        self.author = author\n",
    "        self.__price = price\n",
    "        self.__discount = None\n",
    "\n",
    "    def set_discount(self, discount):\n",
    "        self.__discount = discount\n",
    "\n",
    "    def get_price(self):\n",
    "        if self.__discount:\n",
    "            return self.__price * (1-self.__discount)\n",
    "        return self.__price\n",
    "\n",
    "    @abstractmethod\n",
    "    def __repr__(self):\n",
    "        return f\"Book: {self.title}, Quantity: {self.quantity}, Author: {self.author}, Price: {self.get_price()}\""
   ],
   "metadata": {
    "collapsed": false
   }
  },
  {
   "cell_type": "code",
   "execution_count": 8,
   "outputs": [],
   "source": [
    "class Novel(Book):\n",
    "    def __init__(self, title, quantity, author, price, pages):\n",
    "        super().__init__(title, quantity, author, price)\n",
    "        self.pages = pages\n",
    "\n",
    "    def __repr__(self):\n",
    "        return f\"Book: {self.title}, Quantity: {self.quantity}, Author: {self.author}, Price: {self.get_price()}\""
   ],
   "metadata": {
    "collapsed": false
   }
  },
  {
   "cell_type": "code",
   "execution_count": 9,
   "outputs": [],
   "source": [
    "class Academic(Book):\n",
    "    def __init__(self, title, quantity, author, price, branch):\n",
    "        super().__init__(title, quantity, author, price)\n",
    "        self.branch = branch\n",
    "\n",
    "    def __repr__(self):\n",
    "        return f\"Book: {self.title}, Branch: {self.branch}, Quantity: {self.quantity}, Author: {self.author}, Price: {self.get_price()}\""
   ],
   "metadata": {
    "collapsed": false
   }
  },
  {
   "cell_type": "code",
   "execution_count": 10,
   "outputs": [],
   "source": [
    "novel1 = Novel('Two States', 20, 'Chetan Bhagat', 200, 187)\n",
    "novel1.set_discount(0.20)\n",
    "\n",
    "academic1 = Academic('Python Foundations', 12, 'PSF', 655, 'IT')"
   ],
   "metadata": {
    "collapsed": false
   }
  },
  {
   "cell_type": "code",
   "execution_count": 11,
   "outputs": [
    {
     "name": "stdout",
     "output_type": "stream",
     "text": [
      "Book: Two States, Quantity: 20, Author: Chetan Bhagat, Price: 160.0\n",
      "Book: Python Foundations, Branch: IT, Quantity: 12, Author: PSF, Price: 655\n"
     ]
    }
   ],
   "source": [
    "print(novel1)\n",
    "print(academic1)"
   ],
   "metadata": {
    "collapsed": false
   }
  },
  {
   "cell_type": "code",
   "execution_count": null,
   "outputs": [],
   "source": [],
   "metadata": {
    "collapsed": false
   }
  }
 ],
 "metadata": {
  "kernelspec": {
   "display_name": "Python 3",
   "language": "python",
   "name": "python3"
  },
  "language_info": {
   "codemirror_mode": {
    "name": "ipython",
    "version": 2
   },
   "file_extension": ".py",
   "mimetype": "text/x-python",
   "name": "python",
   "nbconvert_exporter": "python",
   "pygments_lexer": "ipython2",
   "version": "2.7.6"
  }
 },
 "nbformat": 4,
 "nbformat_minor": 0
}
