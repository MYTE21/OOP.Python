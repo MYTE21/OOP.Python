{
 "cells": [
  {
   "cell_type": "code",
   "execution_count": 1,
   "metadata": {
    "collapsed": true
   },
   "outputs": [],
   "source": [
    "class Book:\n",
    "    def __init__(self, title, quantity, author, price):\n",
    "        self.title = title\n",
    "        self.quantity = quantity\n",
    "        self.author = author\n",
    "        self.price = price\n",
    "\n",
    "    def __repr__(self):\n",
    "        return f\"Book: {self.title}, Quantity: {self.quantity}, Author: {self.author}, Price: {self.price}\""
   ]
  },
  {
   "cell_type": "code",
   "execution_count": 2,
   "outputs": [],
   "source": [
    "book1 = Book('Book 1', 12, 'Author 1', 120)\n",
    "book2 = Book('Book 2', 18, 'Author 2', 220)\n",
    "book3 = Book('Book 3', 28, 'Author 3', 320)"
   ],
   "metadata": {
    "collapsed": false
   }
  },
  {
   "cell_type": "code",
   "execution_count": 3,
   "outputs": [
    {
     "name": "stdout",
     "output_type": "stream",
     "text": [
      "Book: Book 1, Quantity: 12, Author: Author 1, Price: 120\n",
      "Book: Book 2, Quantity: 18, Author: Author 2, Price: 220\n",
      "Book: Book 3, Quantity: 28, Author: Author 3, Price: 320\n"
     ]
    }
   ],
   "source": [
    "print(book1)\n",
    "print(book2)\n",
    "print(book3)"
   ],
   "metadata": {
    "collapsed": false
   }
  }
 ],
 "metadata": {
  "kernelspec": {
   "display_name": "Python 3",
   "language": "python",
   "name": "python3"
  },
  "language_info": {
   "codemirror_mode": {
    "name": "ipython",
    "version": 2
   },
   "file_extension": ".py",
   "mimetype": "text/x-python",
   "name": "python",
   "nbconvert_exporter": "python",
   "pygments_lexer": "ipython2",
   "version": "2.7.6"
  }
 },
 "nbformat": 4,
 "nbformat_minor": 0
}
