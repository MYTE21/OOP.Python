{
 "cells": [
  {
   "cell_type": "markdown",
   "source": [
    "[Method Overloading](https://www.scaler.com/topics/method-overloading-in-python/)"
   ],
   "metadata": {
    "collapsed": false
   }
  },
  {
   "cell_type": "markdown",
   "source": [
    "Method 1"
   ],
   "metadata": {
    "collapsed": false
   }
  },
  {
   "cell_type": "code",
   "execution_count": 2,
   "metadata": {
    "collapsed": true
   },
   "outputs": [],
   "source": [
    "class Addition:\n",
    "    def my_sum(self, a = None, b = None, c = None):\n",
    "        s = 0\n",
    "        if a is not None and b is not None and c is not None:\n",
    "            s = a + b + c\n",
    "        elif a is not None and b is not None:\n",
    "            s =  a + b\n",
    "        elif a is not None:\n",
    "            s = a\n",
    "        return s"
   ]
  },
  {
   "cell_type": "code",
   "execution_count": 3,
   "outputs": [
    {
     "name": "stdout",
     "output_type": "stream",
     "text": [
      "10\n",
      "7\n",
      "2\n",
      "0\n"
     ]
    }
   ],
   "source": [
    "addition = Addition()\n",
    "print(addition.my_sum(2, 3, 5))\n",
    "print(addition.my_sum(3, 4))\n",
    "print(addition.my_sum(2))\n",
    "print(addition.my_sum())"
   ],
   "metadata": {
    "collapsed": false
   }
  },
  {
   "cell_type": "markdown",
   "source": [
    "Using Multipledispatch"
   ],
   "metadata": {
    "collapsed": false
   }
  },
  {
   "cell_type": "code",
   "execution_count": 4,
   "outputs": [
    {
     "name": "stdout",
     "output_type": "stream",
     "text": [
      "Collecting multipledispatch\n",
      "  Downloading multipledispatch-0.6.0-py3-none-any.whl (11 kB)\n",
      "Requirement already satisfied: six in c:\\users\\myte\\anaconda3\\envs\\minun\\lib\\site-packages (from multipledispatch) (1.16.0)\n",
      "Installing collected packages: multipledispatch\n",
      "Successfully installed multipledispatch-0.6.0\n"
     ]
    }
   ],
   "source": [
    "!pip install multipledispatch"
   ],
   "metadata": {
    "collapsed": false
   }
  },
  {
   "cell_type": "code",
   "execution_count": 5,
   "outputs": [],
   "source": [
    "from multipledispatch import dispatch"
   ],
   "metadata": {
    "collapsed": false
   }
  },
  {
   "cell_type": "code",
   "execution_count": 6,
   "outputs": [],
   "source": [
    "@dispatch(int, int)\n",
    "def mul(a, b):\n",
    "    return a * b\n",
    "\n",
    "@dispatch(int, int, int)\n",
    "def mul(a, b, c):\n",
    "    return a * b * c\n",
    "\n",
    "@dispatch(float, float, float)\n",
    "def mul(a, b, c):\n",
    "    return a * b * c"
   ],
   "metadata": {
    "collapsed": false
   }
  },
  {
   "cell_type": "code",
   "execution_count": 7,
   "outputs": [
    {
     "name": "stdout",
     "output_type": "stream",
     "text": [
      "39.983999999999995\n",
      "12\n",
      "24\n"
     ]
    }
   ],
   "source": [
    "print(mul(2.1, 3.4, 5.6))\n",
    "print(mul(3, 4))\n",
    "print(mul(2, 3, 4))"
   ],
   "metadata": {
    "collapsed": false
   }
  },
  {
   "cell_type": "code",
   "execution_count": null,
   "outputs": [],
   "source": [],
   "metadata": {
    "collapsed": false
   }
  }
 ],
 "metadata": {
  "kernelspec": {
   "display_name": "Python 3",
   "language": "python",
   "name": "python3"
  },
  "language_info": {
   "codemirror_mode": {
    "name": "ipython",
    "version": 2
   },
   "file_extension": ".py",
   "mimetype": "text/x-python",
   "name": "python",
   "nbconvert_exporter": "python",
   "pygments_lexer": "ipython2",
   "version": "2.7.6"
  }
 },
 "nbformat": 4,
 "nbformat_minor": 0
}
