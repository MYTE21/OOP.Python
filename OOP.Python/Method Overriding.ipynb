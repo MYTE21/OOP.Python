{
 "cells": [
  {
   "cell_type": "code",
   "execution_count": 1,
   "metadata": {
    "collapsed": true
   },
   "outputs": [
    {
     "name": "stdout",
     "output_type": "stream",
     "text": [
      "I am parent class\n",
      "I am child class\n"
     ]
    }
   ],
   "source": [
    "class ParentClass:\n",
    "    def call_me(self):\n",
    "        print(\"I am parent class\")\n",
    "\n",
    "\n",
    "class ChildClass(ParentClass):\n",
    "    def call_me(self):\n",
    "        print(\"I am child class\")\n",
    "\n",
    "pobj = ParentClass()\n",
    "pobj.call_me()\n",
    "\n",
    "cobj = ChildClass()\n",
    "cobj.call_me()"
   ]
  },
  {
   "cell_type": "code",
   "execution_count": 2,
   "outputs": [
    {
     "name": "stdout",
     "output_type": "stream",
     "text": [
      "I am parent class\n",
      "I am child class\n",
      "I am parent class\n"
     ]
    }
   ],
   "source": [
    "class ParentClass:\n",
    "    def call_me(self):\n",
    "        print(\"I am parent class\")\n",
    "\n",
    "\n",
    "class ChildClass(ParentClass):\n",
    "    def call_me(self):\n",
    "        print(\"I am child class\")\n",
    "        super().call_me()\n",
    "\n",
    "pobj = ParentClass()\n",
    "pobj.call_me()\n",
    "\n",
    "cobj = ChildClass()\n",
    "cobj.call_me()"
   ],
   "metadata": {
    "collapsed": false
   }
  },
  {
   "cell_type": "code",
   "execution_count": null,
   "outputs": [],
   "source": [],
   "metadata": {
    "collapsed": false
   }
  }
 ],
 "metadata": {
  "kernelspec": {
   "display_name": "Python 3",
   "language": "python",
   "name": "python3"
  },
  "language_info": {
   "codemirror_mode": {
    "name": "ipython",
    "version": 2
   },
   "file_extension": ".py",
   "mimetype": "text/x-python",
   "name": "python",
   "nbconvert_exporter": "python",
   "pygments_lexer": "ipython2",
   "version": "2.7.6"
  }
 },
 "nbformat": 4,
 "nbformat_minor": 0
}
